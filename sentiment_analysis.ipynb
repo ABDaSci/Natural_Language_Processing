{
 "cells": [
  {
   "cell_type": "code",
   "execution_count": 582,
   "metadata": {},
   "outputs": [
    {
     "data": {
      "text/plain": [
       "<spacytextblob.spacytextblob.SpacyTextBlob at 0x219b829bbd0>"
      ]
     },
     "execution_count": 582,
     "metadata": {},
     "output_type": "execute_result"
    }
   ],
   "source": [
    "# Load libraries\n",
    "import spacy\n",
    "import pandas as pd\n",
    "from spacytextblob.spacytextblob import SpacyTextBlob\n",
    "\n",
    "# Load language model\n",
    "nlp = spacy.load('en_core_web_sm')\n",
    "\n",
    "# Add extension\n",
    "nlp.add_pipe('spacytextblob')"
   ]
  },
  {
   "cell_type": "code",
   "execution_count": 583,
   "metadata": {},
   "outputs": [
    {
     "name": "stdout",
     "output_type": "stream",
     "text": [
      "                     id             dateAdded           dateUpdated  \\\n",
      "0  AVqVGZNvQMlgsOJE6eUY  2017-03-03T16:56:05Z  2018-10-25T16:36:31Z   \n",
      "1  AVqVGZNvQMlgsOJE6eUY  2017-03-03T16:56:05Z  2018-10-25T16:36:31Z   \n",
      "2  AVqVGZNvQMlgsOJE6eUY  2017-03-03T16:56:05Z  2018-10-25T16:36:31Z   \n",
      "\n",
      "                                                name       asins   brand  \\\n",
      "0  Amazon Kindle E-Reader 6\" Wifi (8th Generation...  B00ZV9PXP2  Amazon   \n",
      "1  Amazon Kindle E-Reader 6\" Wifi (8th Generation...  B00ZV9PXP2  Amazon   \n",
      "2  Amazon Kindle E-Reader 6\" Wifi (8th Generation...  B00ZV9PXP2  Amazon   \n",
      "\n",
      "                                          categories primaryCategories  \\\n",
      "0  Computers,Electronics Features,Tablets,Electro...       Electronics   \n",
      "1  Computers,Electronics Features,Tablets,Electro...       Electronics   \n",
      "2  Computers,Electronics Features,Tablets,Electro...       Electronics   \n",
      "\n",
      "                                           imageURLs  \\\n",
      "0  https://pisces.bbystatic.com/image2/BestBuy_US...   \n",
      "1  https://pisces.bbystatic.com/image2/BestBuy_US...   \n",
      "2  https://pisces.bbystatic.com/image2/BestBuy_US...   \n",
      "\n",
      "                                                keys  ...  \\\n",
      "0  allnewkindleereaderblack6glarefreetouchscreend...  ...   \n",
      "1  allnewkindleereaderblack6glarefreetouchscreend...  ...   \n",
      "2  allnewkindleereaderblack6glarefreetouchscreend...  ...   \n",
      "\n",
      "                                    reviews.dateSeen reviews.doRecommend  \\\n",
      "0  2018-05-27T00:00:00Z,2017-09-18T00:00:00Z,2017...               False   \n",
      "1  2018-05-27T00:00:00Z,2017-07-07T00:00:00Z,2017...                True   \n",
      "2                               2018-05-27T00:00:00Z                True   \n",
      "\n",
      "  reviews.id reviews.numHelpful reviews.rating  \\\n",
      "0        NaN                  0              3   \n",
      "1        NaN                  0              5   \n",
      "2        NaN                  0              4   \n",
      "\n",
      "                                  reviews.sourceURLs  \\\n",
      "0  http://reviews.bestbuy.com/3545/5442403/review...   \n",
      "1  http://reviews.bestbuy.com/3545/5442403/review...   \n",
      "2  https://reviews.bestbuy.com/3545/5442403/revie...   \n",
      "\n",
      "                                        reviews.text  \\\n",
      "0  I thought it would be as big as small paper bu...   \n",
      "1  This kindle is light and easy to use especiall...   \n",
      "2  Didnt know how much i'd use a kindle so went f...   \n",
      "\n",
      "                                  reviews.title  reviews.username  \\\n",
      "0                                     Too small            llyyue   \n",
      "1  Great light reader. Easy to use at the beach            Charmi   \n",
      "2                           Great for the price      johnnyjojojo   \n",
      "\n",
      "                                          sourceURLs  \n",
      "0  https://www.newegg.com/Product/Product.aspx%25...  \n",
      "1  https://www.newegg.com/Product/Product.aspx%25...  \n",
      "2  https://www.newegg.com/Product/Product.aspx%25...  \n",
      "\n",
      "[3 rows x 24 columns]\n"
     ]
    }
   ],
   "source": [
    "# Load dataset & inspect \n",
    "df = pd.read_csv(\"Amazon_Reviews.csv\")\n",
    "print(df.head(3))  # Check dataset loaded\n",
    "\n"
   ]
  },
  {
   "cell_type": "code",
   "execution_count": 584,
   "metadata": {},
   "outputs": [
    {
     "name": "stdout",
     "output_type": "stream",
     "text": [
      "Index(['id', 'dateAdded', 'dateUpdated', 'name', 'asins', 'brand',\n",
      "       'categories', 'primaryCategories', 'imageURLs', 'keys', 'manufacturer',\n",
      "       'manufacturerNumber', 'reviews.date', 'reviews.dateAdded',\n",
      "       'reviews.dateSeen', 'reviews.doRecommend', 'reviews.id',\n",
      "       'reviews.numHelpful', 'reviews.rating', 'reviews.sourceURLs',\n",
      "       'reviews.text', 'reviews.title', 'reviews.username', 'sourceURLs'],\n",
      "      dtype='object')\n"
     ]
    }
   ],
   "source": [
    "print(df.columns) # Check correct column names & spellings"
   ]
  },
  {
   "cell_type": "code",
   "execution_count": 585,
   "metadata": {},
   "outputs": [
    {
     "name": "stdout",
     "output_type": "stream",
     "text": [
      "<bound method DataFrame.info of                         id             dateAdded           dateUpdated  \\\n",
      "0     AVqVGZNvQMlgsOJE6eUY  2017-03-03T16:56:05Z  2018-10-25T16:36:31Z   \n",
      "1     AVqVGZNvQMlgsOJE6eUY  2017-03-03T16:56:05Z  2018-10-25T16:36:31Z   \n",
      "2     AVqVGZNvQMlgsOJE6eUY  2017-03-03T16:56:05Z  2018-10-25T16:36:31Z   \n",
      "3     AVqVGZNvQMlgsOJE6eUY  2017-03-03T16:56:05Z  2018-10-25T16:36:31Z   \n",
      "4     AVqVGZNvQMlgsOJE6eUY  2017-03-03T16:56:05Z  2018-10-25T16:36:31Z   \n",
      "...                    ...                   ...                   ...   \n",
      "4995  AVqkIdZiv8e3D1O-leaJ  2017-03-06T14:59:25Z  2017-09-04T11:19:31Z   \n",
      "4996  AVqkIdZiv8e3D1O-leaJ  2017-03-06T14:59:25Z  2017-09-04T11:19:31Z   \n",
      "4997  AVqkIdZiv8e3D1O-leaJ  2017-03-06T14:59:25Z  2017-09-04T11:19:31Z   \n",
      "4998  AVqkIdZiv8e3D1O-leaJ  2017-03-06T14:59:25Z  2017-09-04T11:19:31Z   \n",
      "4999  AVqkIdZiv8e3D1O-leaJ  2017-03-06T14:59:25Z  2017-09-04T11:19:31Z   \n",
      "\n",
      "                                                   name       asins   brand  \\\n",
      "0     Amazon Kindle E-Reader 6\" Wifi (8th Generation...  B00ZV9PXP2  Amazon   \n",
      "1     Amazon Kindle E-Reader 6\" Wifi (8th Generation...  B00ZV9PXP2  Amazon   \n",
      "2     Amazon Kindle E-Reader 6\" Wifi (8th Generation...  B00ZV9PXP2  Amazon   \n",
      "3     Amazon Kindle E-Reader 6\" Wifi (8th Generation...  B00ZV9PXP2  Amazon   \n",
      "4     Amazon Kindle E-Reader 6\" Wifi (8th Generation...  B00ZV9PXP2  Amazon   \n",
      "...                                                 ...         ...     ...   \n",
      "4995  Fire Tablet with Alexa, 7\" Display, 16 GB, Mag...  B018Y224PY  Amazon   \n",
      "4996  Fire Tablet with Alexa, 7\" Display, 16 GB, Mag...  B018Y224PY  Amazon   \n",
      "4997  Fire Tablet with Alexa, 7\" Display, 16 GB, Mag...  B018Y224PY  Amazon   \n",
      "4998  Fire Tablet with Alexa, 7\" Display, 16 GB, Mag...  B018Y224PY  Amazon   \n",
      "4999  Fire Tablet with Alexa, 7\" Display, 16 GB, Mag...  B018Y224PY  Amazon   \n",
      "\n",
      "                                             categories primaryCategories  \\\n",
      "0     Computers,Electronics Features,Tablets,Electro...       Electronics   \n",
      "1     Computers,Electronics Features,Tablets,Electro...       Electronics   \n",
      "2     Computers,Electronics Features,Tablets,Electro...       Electronics   \n",
      "3     Computers,Electronics Features,Tablets,Electro...       Electronics   \n",
      "4     Computers,Electronics Features,Tablets,Electro...       Electronics   \n",
      "...                                                 ...               ...   \n",
      "4995  Tablets,Fire Tablets,Electronics,iPad & Tablet...       Electronics   \n",
      "4996  Tablets,Fire Tablets,Electronics,iPad & Tablet...       Electronics   \n",
      "4997  Tablets,Fire Tablets,Electronics,iPad & Tablet...       Electronics   \n",
      "4998  Tablets,Fire Tablets,Electronics,iPad & Tablet...       Electronics   \n",
      "4999  Tablets,Fire Tablets,Electronics,iPad & Tablet...       Electronics   \n",
      "\n",
      "                                              imageURLs  \\\n",
      "0     https://pisces.bbystatic.com/image2/BestBuy_US...   \n",
      "1     https://pisces.bbystatic.com/image2/BestBuy_US...   \n",
      "2     https://pisces.bbystatic.com/image2/BestBuy_US...   \n",
      "3     https://pisces.bbystatic.com/image2/BestBuy_US...   \n",
      "4     https://pisces.bbystatic.com/image2/BestBuy_US...   \n",
      "...                                                 ...   \n",
      "4995  https://images-na.ssl-images-amazon.com/images...   \n",
      "4996  https://images-na.ssl-images-amazon.com/images...   \n",
      "4997  https://images-na.ssl-images-amazon.com/images...   \n",
      "4998  https://images-na.ssl-images-amazon.com/images...   \n",
      "4999  https://images-na.ssl-images-amazon.com/images...   \n",
      "\n",
      "                                                   keys  ...  \\\n",
      "0     allnewkindleereaderblack6glarefreetouchscreend...  ...   \n",
      "1     allnewkindleereaderblack6glarefreetouchscreend...  ...   \n",
      "2     allnewkindleereaderblack6glarefreetouchscreend...  ...   \n",
      "3     allnewkindleereaderblack6glarefreetouchscreend...  ...   \n",
      "4     allnewkindleereaderblack6glarefreetouchscreend...  ...   \n",
      "...                                                 ...  ...   \n",
      "4995  841667103150,0841667103150,firetabletwithalexa...  ...   \n",
      "4996  841667103150,0841667103150,firetabletwithalexa...  ...   \n",
      "4997  841667103150,0841667103150,firetabletwithalexa...  ...   \n",
      "4998  841667103150,0841667103150,firetabletwithalexa...  ...   \n",
      "4999  841667103150,0841667103150,firetabletwithalexa...  ...   \n",
      "\n",
      "                                       reviews.dateSeen reviews.doRecommend  \\\n",
      "0     2018-05-27T00:00:00Z,2017-09-18T00:00:00Z,2017...               False   \n",
      "1     2018-05-27T00:00:00Z,2017-07-07T00:00:00Z,2017...                True   \n",
      "2                                  2018-05-27T00:00:00Z                True   \n",
      "3                                  2018-10-09T00:00:00Z                True   \n",
      "4                                  2018-05-27T00:00:00Z                True   \n",
      "...                                                 ...                 ...   \n",
      "4995  2017-04-30T02:06:48.451Z,2017-06-07T08:20:48.408Z                True   \n",
      "4996  2017-04-30T02:07:00.236Z,2017-06-07T08:20:55.199Z                True   \n",
      "4997  2017-04-30T02:03:13.567Z,2017-06-07T08:10:47.953Z                True   \n",
      "4998  2017-04-30T02:06:56.574Z,2017-06-07T08:20:53.942Z                True   \n",
      "4999  2017-04-03T03:55:09.054Z,2017-04-30T02:03:18.1...                True   \n",
      "\n",
      "       reviews.id reviews.numHelpful reviews.rating  \\\n",
      "0             NaN                  0              3   \n",
      "1             NaN                  0              5   \n",
      "2             NaN                  0              4   \n",
      "3     177283626.0                  3              5   \n",
      "4             NaN                  0              5   \n",
      "...           ...                ...            ...   \n",
      "4995          NaN                  0              5   \n",
      "4996          NaN                  1              5   \n",
      "4997          NaN                  8              4   \n",
      "4998          NaN                  0              5   \n",
      "4999          NaN                  0              5   \n",
      "\n",
      "                                     reviews.sourceURLs  \\\n",
      "0     http://reviews.bestbuy.com/3545/5442403/review...   \n",
      "1     http://reviews.bestbuy.com/3545/5442403/review...   \n",
      "2     https://reviews.bestbuy.com/3545/5442403/revie...   \n",
      "3     https://redsky.target.com/groot-domain-api/v1/...   \n",
      "4     https://reviews.bestbuy.com/3545/5442403/revie...   \n",
      "...                                                 ...   \n",
      "4995  http://reviews.bestbuy.com/3545/5025900/review...   \n",
      "4996  http://reviews.bestbuy.com/3545/5025900/review...   \n",
      "4997  http://reviews.bestbuy.com/3545/5025900/review...   \n",
      "4998  http://reviews.bestbuy.com/3545/5025900/review...   \n",
      "4999  http://reviews.bestbuy.com/3545/5025900/review...   \n",
      "\n",
      "                                           reviews.text  \\\n",
      "0     I thought it would be as big as small paper bu...   \n",
      "1     This kindle is light and easy to use especiall...   \n",
      "2     Didnt know how much i'd use a kindle so went f...   \n",
      "3     I am 100 happy with my purchase. I caught it o...   \n",
      "4     Solid entry level Kindle. Great for kids. Gift...   \n",
      "...                                                 ...   \n",
      "4995  This is a great tablet for the price. Amazon i...   \n",
      "4996  This tablet is the perfect size and so easy to...   \n",
      "4997  Purchased this for my son. Has room to upgrade...   \n",
      "4998  I had some thoughts about getting this for a 5...   \n",
      "4999  this is a steal, have 8 gb model as well.This ...   \n",
      "\n",
      "                                     reviews.title  reviews.username  \\\n",
      "0                                        Too small            llyyue   \n",
      "1     Great light reader. Easy to use at the beach            Charmi   \n",
      "2                              Great for the price      johnnyjojojo   \n",
      "3                                      A Great Buy           Kdperry   \n",
      "4         Solid entry-level Kindle. Great for kids       Johnnyblack   \n",
      "...                                            ...               ...   \n",
      "4995                                  Good product             litle   \n",
      "4996                                  Great Tablet            gracie   \n",
      "4997               Great for kids or smaller needs              Hawk   \n",
      "4998                  Very sturdy for a 5 year old           Mrbilly   \n",
      "4999                           great little tablet            tabman   \n",
      "\n",
      "                                             sourceURLs  \n",
      "0     https://www.newegg.com/Product/Product.aspx%25...  \n",
      "1     https://www.newegg.com/Product/Product.aspx%25...  \n",
      "2     https://www.newegg.com/Product/Product.aspx%25...  \n",
      "3     https://www.newegg.com/Product/Product.aspx%25...  \n",
      "4     https://www.newegg.com/Product/Product.aspx%25...  \n",
      "...                                                 ...  \n",
      "4995  https://www.barcodable.com/upc/841667103150,ht...  \n",
      "4996  https://www.barcodable.com/upc/841667103150,ht...  \n",
      "4997  https://www.barcodable.com/upc/841667103150,ht...  \n",
      "4998  https://www.barcodable.com/upc/841667103150,ht...  \n",
      "4999  https://www.barcodable.com/upc/841667103150,ht...  \n",
      "\n",
      "[5000 rows x 24 columns]>\n"
     ]
    }
   ],
   "source": [
    "print(df.info)    # Check general structure of dataset"
   ]
  },
  {
   "cell_type": "markdown",
   "metadata": {},
   "source": [
    "This is a comparitively small datset, compared with many NLP processing projects, with 24 features. \n",
    "\n",
    "The target feature here is the 'reviews.text' column."
   ]
  },
  {
   "cell_type": "code",
   "execution_count": 586,
   "metadata": {},
   "outputs": [],
   "source": [
    "reviews_data = df['reviews.text'] # Create dataset using reviews column alone\n",
    "\n"
   ]
  },
  {
   "cell_type": "code",
   "execution_count": 587,
   "metadata": {},
   "outputs": [
    {
     "name": "stdout",
     "output_type": "stream",
     "text": [
      "0\n"
     ]
    }
   ],
   "source": [
    "print(reviews_data.isnull().sum())  # Check missing values"
   ]
  },
  {
   "cell_type": "markdown",
   "metadata": {},
   "source": [
    "A sample of reviews has been loaded, the data is non-numeric, & there are no missing values in the dataset."
   ]
  },
  {
   "cell_type": "code",
   "execution_count": 588,
   "metadata": {},
   "outputs": [],
   "source": [
    "# To create a function to analyse sentiment, we will first clean the text in the reviews\n",
    "def clean_text(text):\n",
    "    text = str(text).lower().strip()\n",
    "\n",
    "    # Process with spacy\n",
    "    doc = nlp(text)\n",
    "    cleaned_tokens = [token.text for token in doc if not token.is_stop and token.is_alpha] \n",
    "    cleaned_text = ' '.join(cleaned_tokens) # Converts cleaned tokens into 1 long string with no gaps\n",
    "\n",
    "    return cleaned_text"
   ]
  },
  {
   "cell_type": "code",
   "execution_count": 589,
   "metadata": {},
   "outputs": [
    {
     "data": {
      "text/plain": [
       "'I thought it would be as big as small paper but turn out to be just like my palm. I think it is too small to read on it... not very comfortable as regular Kindle. Would definitely recommend a paperwhite instead.'"
      ]
     },
     "execution_count": 589,
     "metadata": {},
     "output_type": "execute_result"
    }
   ],
   "source": [
    "# Check the function works on the first review in the dataset\n",
    "# Select the first review as a sample\n",
    "sample = reviews_data.iloc[0]\n",
    "sample"
   ]
  },
  {
   "cell_type": "code",
   "execution_count": 590,
   "metadata": {},
   "outputs": [
    {
     "data": {
      "text/plain": [
       "'thought big small paper turn like palm think small read comfortable regular kindle definitely recommend paperwhite instead'"
      ]
     },
     "execution_count": 590,
     "metadata": {},
     "output_type": "execute_result"
    }
   ],
   "source": [
    "# Convert the sample text\n",
    "converted_sample = clean_text(sample)\n",
    "converted_sample"
   ]
  },
  {
   "cell_type": "markdown",
   "metadata": {},
   "source": [
    "The text has been stripped of stop words, & the string re-joined together. So we can see that the function works."
   ]
  },
  {
   "cell_type": "code",
   "execution_count": 591,
   "metadata": {},
   "outputs": [
    {
     "data": {
      "text/plain": [
       "0    thought big small paper turn like palm think s...\n",
       "1               kindle light easy use especially beach\n",
       "2    nt know use kindle went lower end m happy litt...\n",
       "3    happy purchase caught sale good price normally...\n",
       "4    solid entry level kindle great kids gifted kid...\n",
       "Name: reviews.text, dtype: object"
      ]
     },
     "execution_count": 591,
     "metadata": {},
     "output_type": "execute_result"
    }
   ],
   "source": [
    "# Create a new column of cleaned text\n",
    "reviews_data_cleaned = reviews_data.apply(clean_text)\n",
    "\n",
    "reviews_data_cleaned.head()\n"
   ]
  },
  {
   "cell_type": "code",
   "execution_count": 592,
   "metadata": {},
   "outputs": [
    {
     "data": {
      "text/html": [
       "<div>\n",
       "<style scoped>\n",
       "    .dataframe tbody tr th:only-of-type {\n",
       "        vertical-align: middle;\n",
       "    }\n",
       "\n",
       "    .dataframe tbody tr th {\n",
       "        vertical-align: top;\n",
       "    }\n",
       "\n",
       "    .dataframe thead th {\n",
       "        text-align: right;\n",
       "    }\n",
       "</style>\n",
       "<table border=\"1\" class=\"dataframe\">\n",
       "  <thead>\n",
       "    <tr style=\"text-align: right;\">\n",
       "      <th></th>\n",
       "      <th>reviews.text</th>\n",
       "      <th>reviews.text</th>\n",
       "    </tr>\n",
       "  </thead>\n",
       "  <tbody>\n",
       "    <tr>\n",
       "      <th>0</th>\n",
       "      <td>I thought it would be as big as small paper bu...</td>\n",
       "      <td>thought big small paper turn like palm think s...</td>\n",
       "    </tr>\n",
       "    <tr>\n",
       "      <th>1</th>\n",
       "      <td>This kindle is light and easy to use especiall...</td>\n",
       "      <td>kindle light easy use especially beach</td>\n",
       "    </tr>\n",
       "    <tr>\n",
       "      <th>2</th>\n",
       "      <td>Didnt know how much i'd use a kindle so went f...</td>\n",
       "      <td>nt know use kindle went lower end m happy litt...</td>\n",
       "    </tr>\n",
       "    <tr>\n",
       "      <th>3</th>\n",
       "      <td>I am 100 happy with my purchase. I caught it o...</td>\n",
       "      <td>happy purchase caught sale good price normally...</td>\n",
       "    </tr>\n",
       "    <tr>\n",
       "      <th>4</th>\n",
       "      <td>Solid entry level Kindle. Great for kids. Gift...</td>\n",
       "      <td>solid entry level kindle great kids gifted kid...</td>\n",
       "    </tr>\n",
       "  </tbody>\n",
       "</table>\n",
       "</div>"
      ],
      "text/plain": [
       "                                        reviews.text  \\\n",
       "0  I thought it would be as big as small paper bu...   \n",
       "1  This kindle is light and easy to use especiall...   \n",
       "2  Didnt know how much i'd use a kindle so went f...   \n",
       "3  I am 100 happy with my purchase. I caught it o...   \n",
       "4  Solid entry level Kindle. Great for kids. Gift...   \n",
       "\n",
       "                                        reviews.text  \n",
       "0  thought big small paper turn like palm think s...  \n",
       "1             kindle light easy use especially beach  \n",
       "2  nt know use kindle went lower end m happy litt...  \n",
       "3  happy purchase caught sale good price normally...  \n",
       "4  solid entry level kindle great kids gifted kid...  "
      ]
     },
     "execution_count": 592,
     "metadata": {},
     "output_type": "execute_result"
    }
   ],
   "source": [
    "# Join cleaned column to original dataframe using concatanation\n",
    "df = pd.concat([reviews_data, reviews_data_cleaned], axis = 1, join= 'inner')\n",
    "df.head()"
   ]
  },
  {
   "cell_type": "markdown",
   "metadata": {},
   "source": [
    "Because both columns have the same name, the name of the cleaned column will replaced using indexing."
   ]
  },
  {
   "cell_type": "code",
   "execution_count": 593,
   "metadata": {},
   "outputs": [
    {
     "data": {
      "text/html": [
       "<div>\n",
       "<style scoped>\n",
       "    .dataframe tbody tr th:only-of-type {\n",
       "        vertical-align: middle;\n",
       "    }\n",
       "\n",
       "    .dataframe tbody tr th {\n",
       "        vertical-align: top;\n",
       "    }\n",
       "\n",
       "    .dataframe thead th {\n",
       "        text-align: right;\n",
       "    }\n",
       "</style>\n",
       "<table border=\"1\" class=\"dataframe\">\n",
       "  <thead>\n",
       "    <tr style=\"text-align: right;\">\n",
       "      <th></th>\n",
       "      <th>reviews.text</th>\n",
       "      <th>cleaned_reviews.text</th>\n",
       "    </tr>\n",
       "  </thead>\n",
       "  <tbody>\n",
       "    <tr>\n",
       "      <th>0</th>\n",
       "      <td>I thought it would be as big as small paper bu...</td>\n",
       "      <td>thought big small paper turn like palm think s...</td>\n",
       "    </tr>\n",
       "    <tr>\n",
       "      <th>1</th>\n",
       "      <td>This kindle is light and easy to use especiall...</td>\n",
       "      <td>kindle light easy use especially beach</td>\n",
       "    </tr>\n",
       "    <tr>\n",
       "      <th>2</th>\n",
       "      <td>Didnt know how much i'd use a kindle so went f...</td>\n",
       "      <td>nt know use kindle went lower end m happy litt...</td>\n",
       "    </tr>\n",
       "    <tr>\n",
       "      <th>3</th>\n",
       "      <td>I am 100 happy with my purchase. I caught it o...</td>\n",
       "      <td>happy purchase caught sale good price normally...</td>\n",
       "    </tr>\n",
       "    <tr>\n",
       "      <th>4</th>\n",
       "      <td>Solid entry level Kindle. Great for kids. Gift...</td>\n",
       "      <td>solid entry level kindle great kids gifted kid...</td>\n",
       "    </tr>\n",
       "  </tbody>\n",
       "</table>\n",
       "</div>"
      ],
      "text/plain": [
       "                                        reviews.text  \\\n",
       "0  I thought it would be as big as small paper bu...   \n",
       "1  This kindle is light and easy to use especiall...   \n",
       "2  Didnt know how much i'd use a kindle so went f...   \n",
       "3  I am 100 happy with my purchase. I caught it o...   \n",
       "4  Solid entry level Kindle. Great for kids. Gift...   \n",
       "\n",
       "                                cleaned_reviews.text  \n",
       "0  thought big small paper turn like palm think s...  \n",
       "1             kindle light easy use especially beach  \n",
       "2  nt know use kindle went lower end m happy litt...  \n",
       "3  happy purchase caught sale good price normally...  \n",
       "4  solid entry level kindle great kids gifted kid...  "
      ]
     },
     "execution_count": 593,
     "metadata": {},
     "output_type": "execute_result"
    }
   ],
   "source": [
    "# Renames 1 column using indexing, to avoid errors relating to the dataframe's characteristics\n",
    "df.columns.values[1] = \"cleaned_reviews.text\"   \n",
    "df.head()"
   ]
  },
  {
   "cell_type": "code",
   "execution_count": 594,
   "metadata": {},
   "outputs": [
    {
     "data": {
      "text/plain": [
       "'thought big small paper turn like palm think small read comfortable regular kindle definitely recommend paperwhite instead'"
      ]
     },
     "execution_count": 594,
     "metadata": {},
     "output_type": "execute_result"
    }
   ],
   "source": [
    "# Pick 1 review\n",
    "example = df.iat[0,1]\n",
    "example"
   ]
  },
  {
   "cell_type": "code",
   "execution_count": 595,
   "metadata": {},
   "outputs": [],
   "source": [
    "# Run the natural language program on the example review\n",
    "doc = nlp(example)\n"
   ]
  },
  {
   "cell_type": "code",
   "execution_count": 596,
   "metadata": {},
   "outputs": [
    {
     "data": {
      "text/plain": [
       "-0.016666666666666663"
      ]
     },
     "execution_count": 596,
     "metadata": {},
     "output_type": "execute_result"
    }
   ],
   "source": [
    "# Analyse polarity of comment\n",
    "polarity = doc._.blob.polarity\n",
    "polarity"
   ]
  },
  {
   "cell_type": "markdown",
   "metadata": {},
   "source": [
    "This comment is analysed as slightly negative. Reading it, infers the same conclusion."
   ]
  },
  {
   "cell_type": "code",
   "execution_count": 597,
   "metadata": {},
   "outputs": [],
   "source": [
    "# Creating a function to evaluate polarity of the all the reviews\n",
    "def analyse_sentiment(text):\n",
    "    doc = nlp(text)\n",
    "\n",
    "    polarity = doc._.blob.polarity\n",
    "\n",
    "    if polarity > 0:\n",
    "        sentiment = \"Positive\" \n",
    "    elif polarity < 0:\n",
    "        sentiment = \"Negative\"\n",
    "    else:\n",
    "        sentiment = \"Neutral\"\n",
    "\n",
    "    return sentiment"
   ]
  },
  {
   "cell_type": "code",
   "execution_count": 598,
   "metadata": {},
   "outputs": [
    {
     "data": {
      "text/plain": [
       "('thought big small paper turn like palm think small read comfortable regular kindle definitely recommend paperwhite instead',\n",
       " 'kindle light easy use especially beach',\n",
       " 'nt know use kindle went lower end m happy little dark')"
      ]
     },
     "execution_count": 598,
     "metadata": {},
     "output_type": "execute_result"
    }
   ],
   "source": [
    "# Define reviews for checking analysis\n",
    "review1 = df.iat[0,1]\n",
    "review2 = df.iat[1,1]\n",
    "review3 = df.iat[2,1]\n",
    "\n",
    "review1, review2, review3"
   ]
  },
  {
   "cell_type": "code",
   "execution_count": 599,
   "metadata": {},
   "outputs": [
    {
     "data": {
      "text/plain": [
       "'Negative'"
      ]
     },
     "execution_count": 599,
     "metadata": {},
     "output_type": "execute_result"
    }
   ],
   "source": [
    "# Define sentiment analysis for eac review\n",
    "sentiment1 = analyse_sentiment(review1)\n",
    "sentiment1"
   ]
  },
  {
   "cell_type": "code",
   "execution_count": 600,
   "metadata": {},
   "outputs": [
    {
     "data": {
      "text/plain": [
       "'Positive'"
      ]
     },
     "execution_count": 600,
     "metadata": {},
     "output_type": "execute_result"
    }
   ],
   "source": [
    "sentiment2 = analyse_sentiment(review2)\n",
    "sentiment2"
   ]
  },
  {
   "cell_type": "code",
   "execution_count": 601,
   "metadata": {},
   "outputs": [
    {
     "data": {
      "text/plain": [
       "'Positive'"
      ]
     },
     "execution_count": 601,
     "metadata": {},
     "output_type": "execute_result"
    }
   ],
   "source": [
    "sentiment3 = analyse_sentiment(review3)\n",
    "sentiment3"
   ]
  },
  {
   "cell_type": "markdown",
   "metadata": {},
   "source": [
    "Looking at these 3 reviews, the sentiment analysis appears to have correctly analyse these revviews.\n",
    "\n",
    "So this looks like a good model, based on the reviews analysed here."
   ]
  },
  {
   "cell_type": "code",
   "execution_count": 602,
   "metadata": {},
   "outputs": [],
   "source": [
    "# compare similarity\n",
    "def compare_similarity(statement1, statement2):\n",
    "    doc1 = nlp(statement1)\n",
    "    doc2 = nlp(statement2)\n",
    "\n",
    "    similarity = doc1.similarity(doc2)\n",
    "\n",
    "    return similarity"
   ]
  },
  {
   "cell_type": "code",
   "execution_count": 603,
   "metadata": {},
   "outputs": [
    {
     "name": "stderr",
     "output_type": "stream",
     "text": [
      "C:\\Users\\maron\\AppData\\Local\\Temp\\ipykernel_21160\\213138160.py:6: UserWarning: [W007] The model you're using has no word vectors loaded, so the result of the Doc.similarity method will be based on the tagger, parser and NER, which may not give useful similarity judgements. This may happen if you're using one of the small models, e.g. `en_core_web_sm`, which don't ship with word vectors and only use context-sensitive tensors. You can always add your own word vectors, or use one of the larger models instead if available.\n",
      "  similarity = doc1.similarity(doc2)\n"
     ]
    },
    {
     "data": {
      "text/plain": [
       "0.7042453286282411"
      ]
     },
     "execution_count": 603,
     "metadata": {},
     "output_type": "execute_result"
    }
   ],
   "source": [
    "# Compare 2 reviews for similarity\n",
    "compare_similarity(review1, review2)"
   ]
  },
  {
   "cell_type": "markdown",
   "metadata": {},
   "source": [
    "This similarity analysis found these 2 reviews similar. This score of 0.7 (around 70%) is quite high.\n",
    "\n",
    "This is because a score of 1 is a perfect match; a score of 0 is total dissimilarity. \n",
    "I do not agree with this analysis. Review 1. is slightly negative, & quite long. Whereas Review 2. is positive and more detailed. They are therefore not similar."
   ]
  },
  {
   "cell_type": "code",
   "execution_count": 604,
   "metadata": {},
   "outputs": [
    {
     "name": "stderr",
     "output_type": "stream",
     "text": [
      "C:\\Users\\maron\\AppData\\Local\\Temp\\ipykernel_21160\\213138160.py:6: UserWarning: [W007] The model you're using has no word vectors loaded, so the result of the Doc.similarity method will be based on the tagger, parser and NER, which may not give useful similarity judgements. This may happen if you're using one of the small models, e.g. `en_core_web_sm`, which don't ship with word vectors and only use context-sensitive tensors. You can always add your own word vectors, or use one of the larger models instead if available.\n",
      "  similarity = doc1.similarity(doc2)\n"
     ]
    },
    {
     "data": {
      "text/plain": [
       "0.7653237270899829"
      ]
     },
     "execution_count": 604,
     "metadata": {},
     "output_type": "execute_result"
    }
   ],
   "source": [
    "# Compare a different pair of reviews\n",
    "compare_similarity(review1, review3)"
   ]
  },
  {
   "cell_type": "markdown",
   "metadata": {},
   "source": [
    "The same analysis finds Reviews 1 & 3 to also be similar, slightly more so than the comparison for Review 2. \n",
    "\n",
    "Although these 2 comments do seem to be more similar, than the previous comparison, this score of 77% is still higher than expected.\n",
    "\n",
    "In order to inspect these models further, more sample reviews for each function will be analysed."
   ]
  },
  {
   "cell_type": "code",
   "execution_count": 605,
   "metadata": {},
   "outputs": [
    {
     "data": {
      "text/plain": [
       "0    Negative\n",
       "1    Positive\n",
       "2    Positive\n",
       "3    Positive\n",
       "4    Positive\n",
       "Name: reviews.text, dtype: object"
      ]
     },
     "execution_count": 605,
     "metadata": {},
     "output_type": "execute_result"
    }
   ],
   "source": [
    "# First, the effectiveness of analysis function is evaluated\n",
    "# Create a column of analysed, cleaned reviews. \n",
    "df_sentiment = reviews_data_cleaned.apply(analyse_sentiment)\n",
    "df_sentiment.head()"
   ]
  },
  {
   "cell_type": "code",
   "execution_count": 606,
   "metadata": {},
   "outputs": [
    {
     "data": {
      "text/html": [
       "<div>\n",
       "<style scoped>\n",
       "    .dataframe tbody tr th:only-of-type {\n",
       "        vertical-align: middle;\n",
       "    }\n",
       "\n",
       "    .dataframe tbody tr th {\n",
       "        vertical-align: top;\n",
       "    }\n",
       "\n",
       "    .dataframe thead th {\n",
       "        text-align: right;\n",
       "    }\n",
       "</style>\n",
       "<table border=\"1\" class=\"dataframe\">\n",
       "  <thead>\n",
       "    <tr style=\"text-align: right;\">\n",
       "      <th></th>\n",
       "      <th>reviews.text</th>\n",
       "      <th>reviews.text</th>\n",
       "      <th>reviews.text</th>\n",
       "    </tr>\n",
       "  </thead>\n",
       "  <tbody>\n",
       "    <tr>\n",
       "      <th>0</th>\n",
       "      <td>I thought it would be as big as small paper bu...</td>\n",
       "      <td>thought big small paper turn like palm think s...</td>\n",
       "      <td>Negative</td>\n",
       "    </tr>\n",
       "    <tr>\n",
       "      <th>1</th>\n",
       "      <td>This kindle is light and easy to use especiall...</td>\n",
       "      <td>kindle light easy use especially beach</td>\n",
       "      <td>Positive</td>\n",
       "    </tr>\n",
       "    <tr>\n",
       "      <th>2</th>\n",
       "      <td>Didnt know how much i'd use a kindle so went f...</td>\n",
       "      <td>nt know use kindle went lower end m happy litt...</td>\n",
       "      <td>Positive</td>\n",
       "    </tr>\n",
       "    <tr>\n",
       "      <th>3</th>\n",
       "      <td>I am 100 happy with my purchase. I caught it o...</td>\n",
       "      <td>happy purchase caught sale good price normally...</td>\n",
       "      <td>Positive</td>\n",
       "    </tr>\n",
       "    <tr>\n",
       "      <th>4</th>\n",
       "      <td>Solid entry level Kindle. Great for kids. Gift...</td>\n",
       "      <td>solid entry level kindle great kids gifted kid...</td>\n",
       "      <td>Positive</td>\n",
       "    </tr>\n",
       "  </tbody>\n",
       "</table>\n",
       "</div>"
      ],
      "text/plain": [
       "                                        reviews.text  \\\n",
       "0  I thought it would be as big as small paper bu...   \n",
       "1  This kindle is light and easy to use especiall...   \n",
       "2  Didnt know how much i'd use a kindle so went f...   \n",
       "3  I am 100 happy with my purchase. I caught it o...   \n",
       "4  Solid entry level Kindle. Great for kids. Gift...   \n",
       "\n",
       "                                        reviews.text reviews.text  \n",
       "0  thought big small paper turn like palm think s...     Negative  \n",
       "1             kindle light easy use especially beach     Positive  \n",
       "2  nt know use kindle went lower end m happy litt...     Positive  \n",
       "3  happy purchase caught sale good price normally...     Positive  \n",
       "4  solid entry level kindle great kids gifted kid...     Positive  "
      ]
     },
     "execution_count": 606,
     "metadata": {},
     "output_type": "execute_result"
    }
   ],
   "source": [
    "# Add the column to the dataset\n",
    "df = pd.concat([reviews_data, reviews_data_cleaned, df_sentiment], axis = 1, join= 'inner')\n",
    "df.head()"
   ]
  },
  {
   "cell_type": "code",
   "execution_count": 607,
   "metadata": {},
   "outputs": [
    {
     "data": {
      "text/html": [
       "<div>\n",
       "<style scoped>\n",
       "    .dataframe tbody tr th:only-of-type {\n",
       "        vertical-align: middle;\n",
       "    }\n",
       "\n",
       "    .dataframe tbody tr th {\n",
       "        vertical-align: top;\n",
       "    }\n",
       "\n",
       "    .dataframe thead th {\n",
       "        text-align: right;\n",
       "    }\n",
       "</style>\n",
       "<table border=\"1\" class=\"dataframe\">\n",
       "  <thead>\n",
       "    <tr style=\"text-align: right;\">\n",
       "      <th></th>\n",
       "      <th>reviews.text</th>\n",
       "      <th>cleaned_reviews.text</th>\n",
       "      <th>sentiment</th>\n",
       "    </tr>\n",
       "  </thead>\n",
       "  <tbody>\n",
       "    <tr>\n",
       "      <th>0</th>\n",
       "      <td>I thought it would be as big as small paper bu...</td>\n",
       "      <td>thought big small paper turn like palm think s...</td>\n",
       "      <td>Negative</td>\n",
       "    </tr>\n",
       "    <tr>\n",
       "      <th>1</th>\n",
       "      <td>This kindle is light and easy to use especiall...</td>\n",
       "      <td>kindle light easy use especially beach</td>\n",
       "      <td>Positive</td>\n",
       "    </tr>\n",
       "    <tr>\n",
       "      <th>2</th>\n",
       "      <td>Didnt know how much i'd use a kindle so went f...</td>\n",
       "      <td>nt know use kindle went lower end m happy litt...</td>\n",
       "      <td>Positive</td>\n",
       "    </tr>\n",
       "    <tr>\n",
       "      <th>3</th>\n",
       "      <td>I am 100 happy with my purchase. I caught it o...</td>\n",
       "      <td>happy purchase caught sale good price normally...</td>\n",
       "      <td>Positive</td>\n",
       "    </tr>\n",
       "    <tr>\n",
       "      <th>4</th>\n",
       "      <td>Solid entry level Kindle. Great for kids. Gift...</td>\n",
       "      <td>solid entry level kindle great kids gifted kid...</td>\n",
       "      <td>Positive</td>\n",
       "    </tr>\n",
       "    <tr>\n",
       "      <th>5</th>\n",
       "      <td>This make an excellent ebook reader. Don't exp...</td>\n",
       "      <td>excellent ebook reader expect device read basi...</td>\n",
       "      <td>Positive</td>\n",
       "    </tr>\n",
       "    <tr>\n",
       "      <th>6</th>\n",
       "      <td>I ordered this for my daughter, as I have the ...</td>\n",
       "      <td>ordered daughter black paperwhite love read bi...</td>\n",
       "      <td>Positive</td>\n",
       "    </tr>\n",
       "    <tr>\n",
       "      <th>7</th>\n",
       "      <td>I bought my Kindle about 2 months ago and the ...</td>\n",
       "      <td>bought kindle months ago battery dead charge</td>\n",
       "      <td>Negative</td>\n",
       "    </tr>\n",
       "    <tr>\n",
       "      <th>8</th>\n",
       "      <td>amazon kindle is always the best ebook, upgrad...</td>\n",
       "      <td>amazon kindle best ebook upgrade new model</td>\n",
       "      <td>Positive</td>\n",
       "    </tr>\n",
       "    <tr>\n",
       "      <th>9</th>\n",
       "      <td>It's beyond my expectation, and it can even sh...</td>\n",
       "      <td>expectation music score fast turning</td>\n",
       "      <td>Positive</td>\n",
       "    </tr>\n",
       "    <tr>\n",
       "      <th>10</th>\n",
       "      <td>If you really want to have a good read on some...</td>\n",
       "      <td>want good read digital item looking lightweigh...</td>\n",
       "      <td>Positive</td>\n",
       "    </tr>\n",
       "    <tr>\n",
       "      <th>11</th>\n",
       "      <td>Love my kindle, makes reading at night so easy...</td>\n",
       "      <td>love kindle makes reading night easy feels lik...</td>\n",
       "      <td>Positive</td>\n",
       "    </tr>\n",
       "    <tr>\n",
       "      <th>12</th>\n",
       "      <td>Good product for child. Who only need to read ...</td>\n",
       "      <td>good product child need read books</td>\n",
       "      <td>Positive</td>\n",
       "    </tr>\n",
       "    <tr>\n",
       "      <th>13</th>\n",
       "      <td>This Kindle is a convenient size yet lettering...</td>\n",
       "      <td>kindle convenient size lettering easy read</td>\n",
       "      <td>Positive</td>\n",
       "    </tr>\n",
       "    <tr>\n",
       "      <th>14</th>\n",
       "      <td>I use this every day on my commute. Great batt...</td>\n",
       "      <td>use day commute great battery life backlight r...</td>\n",
       "      <td>Positive</td>\n",
       "    </tr>\n",
       "    <tr>\n",
       "      <th>15</th>\n",
       "      <td>It does its job but I would buy one which the ...</td>\n",
       "      <td>job buy screen brighter times difficult read s...</td>\n",
       "      <td>Positive</td>\n",
       "    </tr>\n",
       "    <tr>\n",
       "      <th>16</th>\n",
       "      <td>Great product for myself! And I bought it when...</td>\n",
       "      <td>great product bought great deal</td>\n",
       "      <td>Positive</td>\n",
       "    </tr>\n",
       "    <tr>\n",
       "      <th>17</th>\n",
       "      <td>Item work well and was easy to read from in da...</td>\n",
       "      <td>item work easy read day light</td>\n",
       "      <td>Positive</td>\n",
       "    </tr>\n",
       "    <tr>\n",
       "      <th>18</th>\n",
       "      <td>Great product and service will refer to a frie...</td>\n",
       "      <td>great product service refer friend sales man r...</td>\n",
       "      <td>Positive</td>\n",
       "    </tr>\n",
       "    <tr>\n",
       "      <th>19</th>\n",
       "      <td>Everything is great except that i can't read e...</td>\n",
       "      <td>great read external pdfs properly zooms little...</td>\n",
       "      <td>Positive</td>\n",
       "    </tr>\n",
       "    <tr>\n",
       "      <th>20</th>\n",
       "      <td>I was looking for a kindle whitepaper. I saw o...</td>\n",
       "      <td>looking kindle whitepaper saw online deal orde...</td>\n",
       "      <td>Positive</td>\n",
       "    </tr>\n",
       "    <tr>\n",
       "      <th>21</th>\n",
       "      <td>This is a nice bare-bones reading device. Easy...</td>\n",
       "      <td>nice bare bones reading device easy set use gr...</td>\n",
       "      <td>Positive</td>\n",
       "    </tr>\n",
       "    <tr>\n",
       "      <th>22</th>\n",
       "      <td>Easy to use and navigate, purchasing books is ...</td>\n",
       "      <td>easy use navigate purchasing books fast simple...</td>\n",
       "      <td>Positive</td>\n",
       "    </tr>\n",
       "    <tr>\n",
       "      <th>23</th>\n",
       "      <td>The Amazon Kindle is light weight and easy to ...</td>\n",
       "      <td>amazon kindle light weight easy use</td>\n",
       "      <td>Positive</td>\n",
       "    </tr>\n",
       "    <tr>\n",
       "      <th>24</th>\n",
       "      <td>I love hear readers, I had to replace mine bec...</td>\n",
       "      <td>love hear readers replace destroyed awesome</td>\n",
       "      <td>Positive</td>\n",
       "    </tr>\n",
       "    <tr>\n",
       "      <th>25</th>\n",
       "      <td>Love the simplicity. Also love that I use it f...</td>\n",
       "      <td>love simplicity love use reading download dist...</td>\n",
       "      <td>Positive</td>\n",
       "    </tr>\n",
       "    <tr>\n",
       "      <th>26</th>\n",
       "      <td>My husband loves this Kindle. He has a muscula...</td>\n",
       "      <td>husband loves kindle muscular disease keeping ...</td>\n",
       "      <td>Positive</td>\n",
       "    </tr>\n",
       "    <tr>\n",
       "      <th>27</th>\n",
       "      <td>I've wanted a kindle for a while and decided t...</td>\n",
       "      <td>wanted kindle decided bb sale disappointed</td>\n",
       "      <td>Negative</td>\n",
       "    </tr>\n",
       "    <tr>\n",
       "      <th>28</th>\n",
       "      <td>I have several Kindles so knew what to expect....</td>\n",
       "      <td>kindles knew expect great reading device diffe...</td>\n",
       "      <td>Positive</td>\n",
       "    </tr>\n",
       "    <tr>\n",
       "      <th>29</th>\n",
       "      <td>I like this e reader, but wish the screen were...</td>\n",
       "      <td>like e reader wish screen higher resolution re...</td>\n",
       "      <td>Positive</td>\n",
       "    </tr>\n",
       "  </tbody>\n",
       "</table>\n",
       "</div>"
      ],
      "text/plain": [
       "                                         reviews.text  \\\n",
       "0   I thought it would be as big as small paper bu...   \n",
       "1   This kindle is light and easy to use especiall...   \n",
       "2   Didnt know how much i'd use a kindle so went f...   \n",
       "3   I am 100 happy with my purchase. I caught it o...   \n",
       "4   Solid entry level Kindle. Great for kids. Gift...   \n",
       "5   This make an excellent ebook reader. Don't exp...   \n",
       "6   I ordered this for my daughter, as I have the ...   \n",
       "7   I bought my Kindle about 2 months ago and the ...   \n",
       "8   amazon kindle is always the best ebook, upgrad...   \n",
       "9   It's beyond my expectation, and it can even sh...   \n",
       "10  If you really want to have a good read on some...   \n",
       "11  Love my kindle, makes reading at night so easy...   \n",
       "12  Good product for child. Who only need to read ...   \n",
       "13  This Kindle is a convenient size yet lettering...   \n",
       "14  I use this every day on my commute. Great batt...   \n",
       "15  It does its job but I would buy one which the ...   \n",
       "16  Great product for myself! And I bought it when...   \n",
       "17  Item work well and was easy to read from in da...   \n",
       "18  Great product and service will refer to a frie...   \n",
       "19  Everything is great except that i can't read e...   \n",
       "20  I was looking for a kindle whitepaper. I saw o...   \n",
       "21  This is a nice bare-bones reading device. Easy...   \n",
       "22  Easy to use and navigate, purchasing books is ...   \n",
       "23  The Amazon Kindle is light weight and easy to ...   \n",
       "24  I love hear readers, I had to replace mine bec...   \n",
       "25  Love the simplicity. Also love that I use it f...   \n",
       "26  My husband loves this Kindle. He has a muscula...   \n",
       "27  I've wanted a kindle for a while and decided t...   \n",
       "28  I have several Kindles so knew what to expect....   \n",
       "29  I like this e reader, but wish the screen were...   \n",
       "\n",
       "                                 cleaned_reviews.text sentiment  \n",
       "0   thought big small paper turn like palm think s...  Negative  \n",
       "1              kindle light easy use especially beach  Positive  \n",
       "2   nt know use kindle went lower end m happy litt...  Positive  \n",
       "3   happy purchase caught sale good price normally...  Positive  \n",
       "4   solid entry level kindle great kids gifted kid...  Positive  \n",
       "5   excellent ebook reader expect device read basi...  Positive  \n",
       "6   ordered daughter black paperwhite love read bi...  Positive  \n",
       "7        bought kindle months ago battery dead charge  Negative  \n",
       "8          amazon kindle best ebook upgrade new model  Positive  \n",
       "9                expectation music score fast turning  Positive  \n",
       "10  want good read digital item looking lightweigh...  Positive  \n",
       "11  love kindle makes reading night easy feels lik...  Positive  \n",
       "12                 good product child need read books  Positive  \n",
       "13         kindle convenient size lettering easy read  Positive  \n",
       "14  use day commute great battery life backlight r...  Positive  \n",
       "15  job buy screen brighter times difficult read s...  Positive  \n",
       "16                    great product bought great deal  Positive  \n",
       "17                      item work easy read day light  Positive  \n",
       "18  great product service refer friend sales man r...  Positive  \n",
       "19  great read external pdfs properly zooms little...  Positive  \n",
       "20  looking kindle whitepaper saw online deal orde...  Positive  \n",
       "21  nice bare bones reading device easy set use gr...  Positive  \n",
       "22  easy use navigate purchasing books fast simple...  Positive  \n",
       "23                amazon kindle light weight easy use  Positive  \n",
       "24        love hear readers replace destroyed awesome  Positive  \n",
       "25  love simplicity love use reading download dist...  Positive  \n",
       "26  husband loves kindle muscular disease keeping ...  Positive  \n",
       "27         wanted kindle decided bb sale disappointed  Negative  \n",
       "28  kindles knew expect great reading device diffe...  Positive  \n",
       "29  like e reader wish screen higher resolution re...  Positive  "
      ]
     },
     "execution_count": 607,
     "metadata": {},
     "output_type": "execute_result"
    }
   ],
   "source": [
    "# Rename all columns as before\n",
    "df.columns.values[1] = \"cleaned_reviews.text\"   \n",
    "df.columns.values[2] = 'sentiment'\n",
    "df.head(30)"
   ]
  },
  {
   "cell_type": "markdown",
   "metadata": {},
   "source": [
    "All of these reviews appear to be correctly classified, but the negative reviews seem to be more nuanced.\n",
    "\n",
    "Taking a closer look at the negative reviews will enable fuller evaluation of the sentiment model."
   ]
  },
  {
   "cell_type": "code",
   "execution_count": 608,
   "metadata": {},
   "outputs": [
    {
     "data": {
      "text/html": [
       "<div>\n",
       "<style scoped>\n",
       "    .dataframe tbody tr th:only-of-type {\n",
       "        vertical-align: middle;\n",
       "    }\n",
       "\n",
       "    .dataframe tbody tr th {\n",
       "        vertical-align: top;\n",
       "    }\n",
       "\n",
       "    .dataframe thead th {\n",
       "        text-align: right;\n",
       "    }\n",
       "</style>\n",
       "<table border=\"1\" class=\"dataframe\">\n",
       "  <thead>\n",
       "    <tr style=\"text-align: right;\">\n",
       "      <th></th>\n",
       "      <th>reviews.text</th>\n",
       "      <th>cleaned_reviews.text</th>\n",
       "      <th>sentiment</th>\n",
       "    </tr>\n",
       "  </thead>\n",
       "  <tbody>\n",
       "    <tr>\n",
       "      <th>0</th>\n",
       "      <td>I thought it would be as big as small paper bu...</td>\n",
       "      <td>thought big small paper turn like palm think s...</td>\n",
       "      <td>Negative</td>\n",
       "    </tr>\n",
       "    <tr>\n",
       "      <th>7</th>\n",
       "      <td>I bought my Kindle about 2 months ago and the ...</td>\n",
       "      <td>bought kindle months ago battery dead charge</td>\n",
       "      <td>Negative</td>\n",
       "    </tr>\n",
       "    <tr>\n",
       "      <th>27</th>\n",
       "      <td>I've wanted a kindle for a while and decided t...</td>\n",
       "      <td>wanted kindle decided bb sale disappointed</td>\n",
       "      <td>Negative</td>\n",
       "    </tr>\n",
       "    <tr>\n",
       "      <th>49</th>\n",
       "      <td>The battery doesn't last as long as was advert...</td>\n",
       "      <td>battery long advertised money recommend backli...</td>\n",
       "      <td>Negative</td>\n",
       "    </tr>\n",
       "    <tr>\n",
       "      <th>80</th>\n",
       "      <td>it would not load my books proper. took a doze...</td>\n",
       "      <td>load books proper took dozen tries erasing dre...</td>\n",
       "      <td>Negative</td>\n",
       "    </tr>\n",
       "    <tr>\n",
       "      <th>85</th>\n",
       "      <td>I especially like the Amazon has a system to c...</td>\n",
       "      <td>especially like amazon system convert pdf kind...</td>\n",
       "      <td>Negative</td>\n",
       "    </tr>\n",
       "    <tr>\n",
       "      <th>93</th>\n",
       "      <td>The screen is too dark, and cannot adjust the ...</td>\n",
       "      <td>screen dark adjust brightness</td>\n",
       "      <td>Negative</td>\n",
       "    </tr>\n",
       "    <tr>\n",
       "      <th>143</th>\n",
       "      <td>I have to say it was a little confusing and fr...</td>\n",
       "      <td>little confusing frustrating getting verificat...</td>\n",
       "      <td>Negative</td>\n",
       "    </tr>\n",
       "    <tr>\n",
       "      <th>188</th>\n",
       "      <td>I‚Äôve asked itquestions and answers were unkn...</td>\n",
       "      <td>asked itquestions answers unknown help</td>\n",
       "      <td>Negative</td>\n",
       "    </tr>\n",
       "    <tr>\n",
       "      <th>209</th>\n",
       "      <td>I bought the echo after seeing it demonstrated...</td>\n",
       "      <td>bought echo seeing demonstrated brother procee...</td>\n",
       "      <td>Negative</td>\n",
       "    </tr>\n",
       "    <tr>\n",
       "      <th>252</th>\n",
       "      <td>I like my Show, but i can't say i love it, for...</td>\n",
       "      <td>like love priciest piece collection alexa devi...</td>\n",
       "      <td>Negative</td>\n",
       "    </tr>\n",
       "    <tr>\n",
       "      <th>264</th>\n",
       "      <td>Bought the Echo Show because of the display an...</td>\n",
       "      <td>bought echo display disappointed echo purchase...</td>\n",
       "      <td>Negative</td>\n",
       "    </tr>\n",
       "    <tr>\n",
       "      <th>275</th>\n",
       "      <td>Just an average Alexa option. Does show a few ...</td>\n",
       "      <td>average alexa option things screen limited</td>\n",
       "      <td>Negative</td>\n",
       "    </tr>\n",
       "    <tr>\n",
       "      <th>289</th>\n",
       "      <td>Fairly easy to use on set up and use. Most ann...</td>\n",
       "      <td>fairly easy use set use annoying issue kids tr...</td>\n",
       "      <td>Negative</td>\n",
       "    </tr>\n",
       "    <tr>\n",
       "      <th>335</th>\n",
       "      <td>I love the Echo show. I have found so many use...</td>\n",
       "      <td>love echo found uses weather updates recipes r...</td>\n",
       "      <td>Negative</td>\n",
       "    </tr>\n",
       "    <tr>\n",
       "      <th>361</th>\n",
       "      <td>I waited a couple months to review giving Amaz...</td>\n",
       "      <td>waited couple months review giving amazon time...</td>\n",
       "      <td>Negative</td>\n",
       "    </tr>\n",
       "    <tr>\n",
       "      <th>504</th>\n",
       "      <td>qc is really bad on this product and does not ...</td>\n",
       "      <td>qc bad product catch voice properly</td>\n",
       "      <td>Negative</td>\n",
       "    </tr>\n",
       "    <tr>\n",
       "      <th>513</th>\n",
       "      <td>Not only does it round out my collection of Al...</td>\n",
       "      <td>round collection alexa devices echos dot works...</td>\n",
       "      <td>Negative</td>\n",
       "    </tr>\n",
       "    <tr>\n",
       "      <th>515</th>\n",
       "      <td>Worthless, except as a regular echo and a poor...</td>\n",
       "      <td>worthless regular echo poor excuse video chat ...</td>\n",
       "      <td>Negative</td>\n",
       "    </tr>\n",
       "    <tr>\n",
       "      <th>521</th>\n",
       "      <td>Only download was very slow and echo show didn...</td>\n",
       "      <td>download slow echo worth having stand</td>\n",
       "      <td>Negative</td>\n",
       "    </tr>\n",
       "    <tr>\n",
       "      <th>561</th>\n",
       "      <td>I'm disappointed. Sometimes gives doesn't unde...</td>\n",
       "      <td>disappointed gives understand</td>\n",
       "      <td>Negative</td>\n",
       "    </tr>\n",
       "    <tr>\n",
       "      <th>651</th>\n",
       "      <td>It's neat. It does what all other amazon alexi...</td>\n",
       "      <td>neat amazon alexis little feel</td>\n",
       "      <td>Negative</td>\n",
       "    </tr>\n",
       "    <tr>\n",
       "      <th>657</th>\n",
       "      <td>I like it. Currently it is the only smart syst...</td>\n",
       "      <td>like currently smart system display makes easi...</td>\n",
       "      <td>Negative</td>\n",
       "    </tr>\n",
       "    <tr>\n",
       "      <th>663</th>\n",
       "      <td>Less than useless Does not work with Amazon Cl...</td>\n",
       "      <td>useless work amazon cloudcam purchased best bu...</td>\n",
       "      <td>Negative</td>\n",
       "    </tr>\n",
       "    <tr>\n",
       "      <th>670</th>\n",
       "      <td>It can stream music really well and not just f...</td>\n",
       "      <td>stream music expecting smart like watson like ...</td>\n",
       "      <td>Negative</td>\n",
       "    </tr>\n",
       "    <tr>\n",
       "      <th>801</th>\n",
       "      <td>Less than useless Does not work with Amazon Cl...</td>\n",
       "      <td>useless work amazon cloudcam purchased best bu...</td>\n",
       "      <td>Negative</td>\n",
       "    </tr>\n",
       "    <tr>\n",
       "      <th>825</th>\n",
       "      <td>She knows all the answers. I‚Äôm used to speak...</td>\n",
       "      <td>knows answers speaking recently visiting frien...</td>\n",
       "      <td>Negative</td>\n",
       "    </tr>\n",
       "    <tr>\n",
       "      <th>837</th>\n",
       "      <td>I bought the echo after seeing it demonstrated...</td>\n",
       "      <td>bought echo seeing demonstrated brother procee...</td>\n",
       "      <td>Negative</td>\n",
       "    </tr>\n",
       "    <tr>\n",
       "      <th>839</th>\n",
       "      <td>I have to say it was a little confusing and fr...</td>\n",
       "      <td>little confusing frustrating getting verificat...</td>\n",
       "      <td>Negative</td>\n",
       "    </tr>\n",
       "    <tr>\n",
       "      <th>851</th>\n",
       "      <td>I had been looking for the product for a while...</td>\n",
       "      <td>looking product research bought disappointed g...</td>\n",
       "      <td>Negative</td>\n",
       "    </tr>\n",
       "  </tbody>\n",
       "</table>\n",
       "</div>"
      ],
      "text/plain": [
       "                                          reviews.text  \\\n",
       "0    I thought it would be as big as small paper bu...   \n",
       "7    I bought my Kindle about 2 months ago and the ...   \n",
       "27   I've wanted a kindle for a while and decided t...   \n",
       "49   The battery doesn't last as long as was advert...   \n",
       "80   it would not load my books proper. took a doze...   \n",
       "85   I especially like the Amazon has a system to c...   \n",
       "93   The screen is too dark, and cannot adjust the ...   \n",
       "143  I have to say it was a little confusing and fr...   \n",
       "188  I‚Äôve asked itquestions and answers were unkn...   \n",
       "209  I bought the echo after seeing it demonstrated...   \n",
       "252  I like my Show, but i can't say i love it, for...   \n",
       "264  Bought the Echo Show because of the display an...   \n",
       "275  Just an average Alexa option. Does show a few ...   \n",
       "289  Fairly easy to use on set up and use. Most ann...   \n",
       "335  I love the Echo show. I have found so many use...   \n",
       "361  I waited a couple months to review giving Amaz...   \n",
       "504  qc is really bad on this product and does not ...   \n",
       "513  Not only does it round out my collection of Al...   \n",
       "515  Worthless, except as a regular echo and a poor...   \n",
       "521  Only download was very slow and echo show didn...   \n",
       "561  I'm disappointed. Sometimes gives doesn't unde...   \n",
       "651  It's neat. It does what all other amazon alexi...   \n",
       "657  I like it. Currently it is the only smart syst...   \n",
       "663  Less than useless Does not work with Amazon Cl...   \n",
       "670  It can stream music really well and not just f...   \n",
       "801  Less than useless Does not work with Amazon Cl...   \n",
       "825  She knows all the answers. I‚Äôm used to speak...   \n",
       "837  I bought the echo after seeing it demonstrated...   \n",
       "839  I have to say it was a little confusing and fr...   \n",
       "851  I had been looking for the product for a while...   \n",
       "\n",
       "                                  cleaned_reviews.text sentiment  \n",
       "0    thought big small paper turn like palm think s...  Negative  \n",
       "7         bought kindle months ago battery dead charge  Negative  \n",
       "27          wanted kindle decided bb sale disappointed  Negative  \n",
       "49   battery long advertised money recommend backli...  Negative  \n",
       "80   load books proper took dozen tries erasing dre...  Negative  \n",
       "85   especially like amazon system convert pdf kind...  Negative  \n",
       "93                       screen dark adjust brightness  Negative  \n",
       "143  little confusing frustrating getting verificat...  Negative  \n",
       "188             asked itquestions answers unknown help  Negative  \n",
       "209  bought echo seeing demonstrated brother procee...  Negative  \n",
       "252  like love priciest piece collection alexa devi...  Negative  \n",
       "264  bought echo display disappointed echo purchase...  Negative  \n",
       "275         average alexa option things screen limited  Negative  \n",
       "289  fairly easy use set use annoying issue kids tr...  Negative  \n",
       "335  love echo found uses weather updates recipes r...  Negative  \n",
       "361  waited couple months review giving amazon time...  Negative  \n",
       "504                qc bad product catch voice properly  Negative  \n",
       "513  round collection alexa devices echos dot works...  Negative  \n",
       "515  worthless regular echo poor excuse video chat ...  Negative  \n",
       "521              download slow echo worth having stand  Negative  \n",
       "561                      disappointed gives understand  Negative  \n",
       "651                     neat amazon alexis little feel  Negative  \n",
       "657  like currently smart system display makes easi...  Negative  \n",
       "663  useless work amazon cloudcam purchased best bu...  Negative  \n",
       "670  stream music expecting smart like watson like ...  Negative  \n",
       "801  useless work amazon cloudcam purchased best bu...  Negative  \n",
       "825  knows answers speaking recently visiting frien...  Negative  \n",
       "837  bought echo seeing demonstrated brother procee...  Negative  \n",
       "839  little confusing frustrating getting verificat...  Negative  \n",
       "851  looking product research bought disappointed g...  Negative  "
      ]
     },
     "execution_count": 608,
     "metadata": {},
     "output_type": "execute_result"
    }
   ],
   "source": [
    "# Just negative comments.\n",
    "negative_reviews = df[df[\"sentiment\"] == \"Negative\"]\n",
    "negative_reviews.head(30)"
   ]
  },
  {
   "cell_type": "markdown",
   "metadata": {},
   "source": [
    "From the portion of the reviews that is visible, the majority of these negative reviews appear to be correctly classified. Rows 85, 335, & 513 do not appear to be negative though. So again, further inspection would yield more detailed evaluation. \n",
    "\n",
    "On the whole, the sentiment analysis using blob.polarity is effective."
   ]
  },
  {
   "cell_type": "code",
   "execution_count": 609,
   "metadata": {},
   "outputs": [],
   "source": [
    "# Defines 12 more reviews for evaluating the similarity model\n",
    "review10 = df.iat[9,1]\n",
    "review11 = df.iat[10,1]\n",
    "review12 = df.iat[11,1]\n",
    "review13 = df.iat[12,1]\n",
    "review14 = df.iat[13,1]\n",
    "review15 = df.iat[14,1]\n",
    "review16 = df.iat[15,1]\n",
    "review17 = df.iat[16,1]\n",
    "review18 = df.iat[17,1]\n",
    "review19 = df.iat[18,1]\n",
    "review20 = df.iat[19,1]\n",
    "review21 = df.iat[20,1]"
   ]
  },
  {
   "cell_type": "code",
   "execution_count": 610,
   "metadata": {},
   "outputs": [
    {
     "data": {
      "text/plain": [
       "('expectation music score fast turning', 'good product child need read books')"
      ]
     },
     "execution_count": 610,
     "metadata": {},
     "output_type": "execute_result"
    }
   ],
   "source": [
    "# Randomly compare 3 pairs of reviews again\n",
    "# See reviews 10 & 13\n",
    "review10, review13"
   ]
  },
  {
   "cell_type": "code",
   "execution_count": 611,
   "metadata": {},
   "outputs": [
    {
     "name": "stderr",
     "output_type": "stream",
     "text": [
      "C:\\Users\\maron\\AppData\\Local\\Temp\\ipykernel_21160\\213138160.py:6: UserWarning: [W007] The model you're using has no word vectors loaded, so the result of the Doc.similarity method will be based on the tagger, parser and NER, which may not give useful similarity judgements. This may happen if you're using one of the small models, e.g. `en_core_web_sm`, which don't ship with word vectors and only use context-sensitive tensors. You can always add your own word vectors, or use one of the larger models instead if available.\n",
      "  similarity = doc1.similarity(doc2)\n"
     ]
    },
    {
     "data": {
      "text/plain": [
       "0.6810882735658104"
      ]
     },
     "execution_count": 611,
     "metadata": {},
     "output_type": "execute_result"
    }
   ],
   "source": [
    "# Analyse similarity using user function defined above, & give score for comparing randomly selected reviews\n",
    "compare_similarity(review10, review13)"
   ]
  },
  {
   "cell_type": "code",
   "execution_count": 612,
   "metadata": {},
   "outputs": [
    {
     "data": {
      "text/plain": [
       "('great read external pdfs properly zooms little kindle books provides great experience battery life awesome',\n",
       " 'item work easy read day light')"
      ]
     },
     "execution_count": 612,
     "metadata": {},
     "output_type": "execute_result"
    }
   ],
   "source": [
    "# See reviews 20 & 18\n",
    "review20, review18"
   ]
  },
  {
   "cell_type": "code",
   "execution_count": 613,
   "metadata": {},
   "outputs": [
    {
     "name": "stderr",
     "output_type": "stream",
     "text": [
      "C:\\Users\\maron\\AppData\\Local\\Temp\\ipykernel_21160\\213138160.py:6: UserWarning: [W007] The model you're using has no word vectors loaded, so the result of the Doc.similarity method will be based on the tagger, parser and NER, which may not give useful similarity judgements. This may happen if you're using one of the small models, e.g. `en_core_web_sm`, which don't ship with word vectors and only use context-sensitive tensors. You can always add your own word vectors, or use one of the larger models instead if available.\n",
      "  similarity = doc1.similarity(doc2)\n"
     ]
    },
    {
     "data": {
      "text/plain": [
       "0.7297337505338036"
      ]
     },
     "execution_count": 613,
     "metadata": {},
     "output_type": "execute_result"
    }
   ],
   "source": [
    "compare_similarity(review20, review18) # Gives score for  comparing reviews 20 & 18"
   ]
  },
  {
   "cell_type": "code",
   "execution_count": 614,
   "metadata": {},
   "outputs": [
    {
     "data": {
      "text/plain": [
       "('great product service refer friend sales man r good',\n",
       " 'nt know use kindle went lower end m happy little dark')"
      ]
     },
     "execution_count": 614,
     "metadata": {},
     "output_type": "execute_result"
    }
   ],
   "source": [
    "# See reviews 19 & 13\n",
    "review19, review3"
   ]
  },
  {
   "cell_type": "code",
   "execution_count": 615,
   "metadata": {},
   "outputs": [
    {
     "name": "stderr",
     "output_type": "stream",
     "text": [
      "C:\\Users\\maron\\AppData\\Local\\Temp\\ipykernel_21160\\213138160.py:6: UserWarning: [W007] The model you're using has no word vectors loaded, so the result of the Doc.similarity method will be based on the tagger, parser and NER, which may not give useful similarity judgements. This may happen if you're using one of the small models, e.g. `en_core_web_sm`, which don't ship with word vectors and only use context-sensitive tensors. You can always add your own word vectors, or use one of the larger models instead if available.\n",
      "  similarity = doc1.similarity(doc2)\n"
     ]
    },
    {
     "data": {
      "text/plain": [
       "0.5144639768860673"
      ]
     },
     "execution_count": 615,
     "metadata": {},
     "output_type": "execute_result"
    }
   ],
   "source": [
    "compare_similarity(review19, review3) # Gives score for comparing reviews 19 & 3\n"
   ]
  },
  {
   "cell_type": "markdown",
   "metadata": {},
   "source": [
    "From this further comparison of reviews, again, the comments do not appear to be as similar as the score indicates. \n",
    "\n",
    "So in conclusion, the similarity method does not appear to be as effective as the polarity attribute.   The user warning message in line 603 regarding the use of small models, may be affecting the way the sentences have been analysed. It may be possible that they have been tagged similarly more because of the subject matter, rather than the actual sentiment.\n",
    "\n",
    "\n"
   ]
  }
 ],
 "metadata": {
  "kernelspec": {
   "display_name": "Python 3",
   "language": "python",
   "name": "python3"
  },
  "language_info": {
   "codemirror_mode": {
    "name": "ipython",
    "version": 3
   },
   "file_extension": ".py",
   "mimetype": "text/x-python",
   "name": "python",
   "nbconvert_exporter": "python",
   "pygments_lexer": "ipython3",
   "version": "3.11.9"
  }
 },
 "nbformat": 4,
 "nbformat_minor": 2
}
